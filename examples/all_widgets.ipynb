{
 "cells": [
  {
   "cell_type": "markdown",
   "metadata": {
    "pycharm": {
     "name": "#%% md\n"
    }
   },
   "source": [
    "# All Widgets\n",
    "\n",
    "### This Notebook contains all available widgets for demo purposes"
   ]
  },
  {
   "cell_type": "code",
   "execution_count": 34,
   "metadata": {
    "pycharm": {
     "name": "#%%\n"
    }
   },
   "outputs": [
    {
     "name": "stdout",
     "output_type": "stream",
     "text": [
      "Installing /Users/miklosgergo/Documents/GitHub/plots/venv/lib/python3.10/site-packages/ipyreact/nbextension -> jupyter-react\n",
      "Removing: /Users/miklosgergo/Documents/GitHub/plots/venv/share/jupyter/nbextensions/jupyter-react\n",
      "Symlinking: /Users/miklosgergo/Documents/GitHub/plots/venv/share/jupyter/nbextensions/jupyter-react -> /Users/miklosgergo/Documents/GitHub/plots/venv/lib/python3.10/site-packages/ipyreact/nbextension\n",
      "- Validating: \u001B[32mOK\u001B[0m\n",
      "\n",
      "    To initialize this nbextension in the browser every time the notebook (or other app) loads:\n",
      "    \n",
      "          jupyter nbextension enable ipyreact --py --sys-prefix\n",
      "    \n",
      "Enabling notebook extension jupyter-react/extension...\n",
      "      - Validating: \u001B[32mOK\u001B[0m\n"
     ]
    }
   ],
   "source": [
    "# need only in dev mode, but magics does not effect anything in server mode\n",
    "import ipyreact\n",
    "!jupyter nbextension install --sys-prefix --symlink --overwrite --py ipyreact\n",
    "!jupyter nbextension enable --sys-prefix --py ipyreact"
   ]
  },
  {
   "cell_type": "code",
   "execution_count": 35,
   "metadata": {
    "pycharm": {
     "is_executing": true,
     "name": "#%%\n"
    }
   },
   "outputs": [],
   "source": [
    "import plotolo as app"
   ]
  },
  {
   "cell_type": "code",
   "execution_count": 36,
   "metadata": {
    "pycharm": {
     "name": "#%%\n"
    }
   },
   "outputs": [
    {
     "data": {
      "application/vnd.jupyter.widget-view+json": {
       "model_id": "842594c423ba4c8d92fa5acc3837e8e5",
       "version_major": 2,
       "version_minor": 0
      },
      "text/plain": [
       "_InlineNotebookWidget(data={'value': 'Hello world!'}, id='Hello world!TEXT', type='TEXT')"
      ]
     },
     "metadata": {},
     "output_type": "display_data"
    },
    {
     "data": {
      "application/vnd.jupyter.widget-view+json": {
       "model_id": "1218ce6cd24c4576a1872922a740a8ea",
       "version_major": 2,
       "version_minor": 0
      },
      "text/plain": [
       "_InlineNotebookWidget(data={'value': 'Hello World!', 'level': 3}, id='Hello World!TITLE', type='TITLE')"
      ]
     },
     "metadata": {},
     "output_type": "display_data"
    },
    {
     "data": {
      "application/vnd.jupyter.widget-view+json": {
       "model_id": "651296fa98bb45408e90057b808f352f",
       "version_major": 2,
       "version_minor": 0
      },
      "text/plain": [
       "_InlineNotebookWidget(data={'value': '\\n# Header :dog:\\n## Subheader :cat:\\n----\\nList:\\n- ($C_L$) is a dimens…"
      ]
     },
     "metadata": {},
     "output_type": "display_data"
    }
   ],
   "source": [
    "app.text(\"Hello world!\")\n",
    "app.title(\"Hello World!\")\n",
    "app.markdown(\n",
    "\"\"\"\n",
    "# Header :dog:\n",
    "## Subheader :cat:\n",
    "----\n",
    "List:\n",
    "- ($C_L$) is a dimensionless coefficient :+1:\n",
    "- _italic_\n",
    "- __bold__\n",
    " \"\"\")"
   ]
  },
  {
   "cell_type": "code",
   "execution_count": 4,
   "metadata": {
    "pycharm": {
     "name": "#%%\n"
    }
   },
   "outputs": [
    {
     "data": {
      "application/vnd.jupyter.widget-view+json": {
       "model_id": "afe6bb1b56714f86943de77408d60714",
       "version_major": 2,
       "version_minor": 0
      },
      "text/plain": [
       "_InlineNotebookWidget(data={'default_value': 'something', 'label': 'Write something:', 'place_holder': None}, …"
      ]
     },
     "metadata": {},
     "output_type": "display_data"
    }
   ],
   "source": [
    "value = app.text_input(label=\"Write something:\", default_value=\"something\")\n",
    "app.text(value, id=1)"
   ]
  },
  {
   "cell_type": "code",
   "execution_count": 5,
   "metadata": {
    "pycharm": {
     "name": "#%%\n"
    }
   },
   "outputs": [
    {
     "data": {
      "application/vnd.jupyter.widget-view+json": {
       "model_id": "46153b2012df49ddb2515afe8f7e014b",
       "version_major": 2,
       "version_minor": 0
      },
      "text/plain": [
       "_InlineNotebookWidget(data={'label': 'Choose a number:', 'default_value': 50, 'min': 0, 'max': 100}, id='Choos…"
      ]
     },
     "metadata": {},
     "output_type": "display_data"
    }
   ],
   "source": [
    "value = app.slider(label=\"Choose a number:\", default_value=50, min=0, max=100)\n",
    "app.text(value, id=2)"
   ]
  },
  {
   "cell_type": "code",
   "execution_count": 6,
   "metadata": {
    "pycharm": {
     "name": "#%%\n"
    }
   },
   "outputs": [
    {
     "data": {
      "application/vnd.jupyter.widget-view+json": {
       "model_id": "e435a165901b41d68a11ec0ccdc6a56b",
       "version_major": 2,
       "version_minor": 0
      },
      "text/plain": [
       "_InlineNotebookWidget(data={'label': 'Choose a fruit:', 'default_value': 'cherry', 'options': ['apple', 'pie',…"
      ]
     },
     "metadata": {},
     "output_type": "display_data"
    },
    {
     "data": {
      "application/vnd.jupyter.widget-view+json": {
       "model_id": "6a1b8f79424745508b7eba2a4673a61c",
       "version_major": 2,
       "version_minor": 0
      },
      "text/plain": [
       "_InlineNotebookWidget(data={'label': 'I accept cookies', 'default_value': False}, id='I accept cookiesFalseCHE…"
      ]
     },
     "metadata": {},
     "output_type": "display_data"
    }
   ],
   "source": [
    "options = [\"apple\", \"pie\", \"cherry\"]\n",
    "selected = app.select(options, label=\"Choose a fruit:\", default_value=\"cherry\")\n",
    "app.text('Selected: ' + selected, id=3)"
   ]
  },
  {
   "cell_type": "code",
   "execution_count": null,
   "metadata": {
    "pycharm": {
     "name": "#%%\n"
    }
   },
   "outputs": [],
   "source": [
    "checked = app.checkbox(label=\"I accept everything\", default_value=False)\n",
    "if checked:\n",
    "    app.text('Checked!', id=998)"
   ]
  },
  {
   "cell_type": "code",
   "execution_count": 8,
   "metadata": {
    "pycharm": {
     "name": "#%%\n"
    }
   },
   "outputs": [
    {
     "data": {
      "application/vnd.jupyter.widget-view+json": {
       "model_id": "8ec87e197d04400f99161e0befc8bef7",
       "version_major": 2,
       "version_minor": 0
      },
      "text/plain": [
       "_InlineNotebookWidget(data={'base64': 'iVBORw0KGgoAAAANSUhEUgAAAjQAAAGRCAYAAABysinDAACAAElEQVR4Xuydd5wVRda/+e3…"
      ]
     },
     "metadata": {},
     "output_type": "display_data"
    }
   ],
   "source": [
    "app.image(filepath='./img.png', path_scope=\"app\")"
   ]
  },
  {
   "cell_type": "code",
   "execution_count": 9,
   "metadata": {
    "pycharm": {
     "name": "#%%\n"
    }
   },
   "outputs": [
    {
     "data": {
      "application/vnd.jupyter.widget-view+json": {
       "model_id": "a82c008a752f451d822ed59f6dbebb58",
       "version_major": 2,
       "version_minor": 0
      },
      "text/plain": [
       "_InlineNotebookWidget(data={'label': 'Click me!'}, id='Click me!BUTTON', type='BUTTON')"
      ]
     },
     "metadata": {},
     "output_type": "display_data"
    }
   ],
   "source": [
    "clicked = app.button(\"Click me!\")\n",
    "if clicked:\n",
    "    app.text('Clicked!', id=999)"
   ]
  },
  {
   "cell_type": "code",
   "execution_count": 10,
   "metadata": {
    "pycharm": {
     "name": "#%%\n"
    }
   },
   "outputs": [],
   "source": [
    "from faker import Faker\n",
    "\n",
    "fake = Faker()\n",
    "keys = [\"name\", \"address\", \"email\", \"birthdate\", \"city\", \"country\", \"zipcode\", \"job\", \"company\", \"ssn\"]\n",
    "data = []\n",
    "for _ in range(6):\n",
    "    row = {\n",
    "        \"Name\": fake.name(),\n",
    "        \"Address\": fake.address().split('\\n')[1],\n",
    "        \"Birthdate\": fake.date_of_birth(minimum_age=18, maximum_age=90).isoformat(),\n",
    "        \"Job\": fake.job(),\n",
    "    }\n",
    "    data.append(row)\n",
    "\n",
    "app.table(data)"
   ]
  },
  {
   "cell_type": "code",
   "execution_count": 11,
   "metadata": {
    "pycharm": {
     "name": "#%%\n"
    }
   },
   "outputs": [
    {
     "data": {
      "application/vnd.jupyter.widget-view+json": {
       "model_id": "1d78ba3a89534c589a1600c1cccd7c7b",
       "version_major": 2,
       "version_minor": 0
      },
      "text/plain": [
       "_InlineNotebookWidget(data={'data': [['Amanda Hall', 'Port Bonnie, NJ 07015', '1946-07-10', 'Call centre manag…"
      ]
     },
     "metadata": {},
     "output_type": "display_data"
    }
   ],
   "source": [
    "app.divider(id=123)"
   ]
  },
  {
   "cell_type": "code",
   "execution_count": 12,
   "metadata": {
    "pycharm": {
     "name": "#%%\n"
    }
   },
   "outputs": [
    {
     "data": {
      "application/vnd.jupyter.widget-view+json": {
       "model_id": "9bb9779443a94874abba00095bbcf144",
       "version_major": 2,
       "version_minor": 0
      },
      "text/plain": [
       "_InlineNotebookWidget(id='123', type='DIVIDER')"
      ]
     },
     "metadata": {},
     "output_type": "display_data"
    }
   ],
   "source": [
    "\n",
    "app.file_download(filepath=\"./img.png\", label=\"Download file\")"
   ]
  },
  {
   "cell_type": "code",
   "execution_count": 13,
   "metadata": {
    "pycharm": {
     "name": "#%%\n"
    }
   },
   "outputs": [
    {
     "data": {
      "application/vnd.jupyter.widget-view+json": {
       "model_id": "9eb9dbe4f3284d39a19da5f228ecf747",
       "version_major": 2,
       "version_minor": 0
      },
      "text/plain": [
       "_InlineNotebookWidget(data={'label': 'Download file', 'filepath': './file.pdf'}, id='Download file./file.pdfFI…"
      ]
     },
     "metadata": {},
     "output_type": "display_data"
    },
    {
     "data": {
      "application/vnd.jupyter.widget-view+json": {
       "model_id": "194cf59cb50b42a58116e190b0e61575",
       "version_major": 2,
       "version_minor": 0
      },
      "text/plain": [
       "_InlineNotebookWidget(data={'label': 'Upload file', 'path': ''}, id='Upload file./FILE_UPLOAD', type='FILE_UPL…"
      ]
     },
     "metadata": {},
     "output_type": "display_data"
    }
   ],
   "source": [
    "filepath = app.file_upload(label=\"Upload file\", path=\"./\")\n",
    "app.text(filepath, id=9)"
   ]
  },
  {
   "cell_type": "code",
   "execution_count": 14,
   "metadata": {
    "pycharm": {
     "name": "#%%\n"
    }
   },
   "outputs": [
    {
     "data": {
      "application/vnd.jupyter.widget-view+json": {
       "model_id": "1cd8a5fc064542f79a18bd02f045df49",
       "version_major": 2,
       "version_minor": 0
      },
      "text/plain": [
       "_InlineNotebookWidget(data={'data': [['data1', 150, 200, 180, 300, 250, 220, 220], ['data2', 50, 20, 10, 40, 1…"
      ]
     },
     "metadata": {},
     "output_type": "display_data"
    }
   ],
   "source": [
    "data = {\n",
    "    \"data1\": [150, 200, 180, 300, 250, 220, 220],\n",
    "\t\"data2\": [50, 20, 10, 40, 15, 55, 30],\n",
    "\t\"data3\": [270, 250, 210, 190, 155, 185, 150],\n",
    "\t\"data4\": [183, 70, 75, 150, 45, 75, 100],\n",
    "}\n",
    "\n",
    "app.area_chart(data, spline=True, zoom=True)"
   ]
  },
  {
   "cell_type": "code",
   "execution_count": null,
   "metadata": {
    "pycharm": {
     "name": "#%%\n"
    }
   },
   "outputs": [],
   "source": [
    "# string = 'string_which_will_be_equal_in_three_ways'\n",
    "# hashed = olo.hash(string)\n",
    "# olo.save('string', string)\n",
    "# string = olo.load('string')\n",
    "# olo.text(string, id=11)\n",
    "# olo.text(hashed, id=12)\n",
    "# olo.text('string', id=13)"
   ]
  },
  {
   "cell_type": "code",
   "execution_count": 67,
   "metadata": {
    "pycharm": {
     "name": "#%%\n"
    }
   },
   "outputs": [
    {
     "data": {
      "application/vnd.jupyter.widget-view+json": {
       "model_id": "fd71cc92037c43dca29d53ba382339a5",
       "version_major": 2,
       "version_minor": 0
      },
      "text/plain": [
       "_InlineNotebookWidget(data={'default_value': 'John Doe.txt', 'label': 'Name', 'place_holder': None}, id='NameJ…"
      ]
     },
     "metadata": {},
     "output_type": "display_data"
    },
    {
     "data": {
      "application/vnd.jupyter.widget-view+json": {
       "model_id": "5a6c31d3e0284acea7d809a90883798b",
       "version_major": 2,
       "version_minor": 0
      },
      "text/plain": [
       "_InlineNotebookWidget(data={'label': 'Upload a file', 'path': None}, id='123', type='FILE_UPLOAD')"
      ]
     },
     "metadata": {},
     "output_type": "display_data"
    },
    {
     "ename": "StopExecutionException",
     "evalue": "",
     "output_type": "error",
     "traceback": [
      "\u001B[0;31m---------------------------------------------------------------------------\u001B[0m",
      "\u001B[0;31mStopExecutionException\u001B[0m                    Traceback (most recent call last)",
      "Cell \u001B[0;32mIn [67], line 6\u001B[0m\n\u001B[1;32m      3\u001B[0m filepath \u001B[38;5;241m=\u001B[39m olo\u001B[38;5;241m.\u001B[39mfile_upload(\u001B[38;5;124m\"\u001B[39m\u001B[38;5;124mUpload a file\u001B[39m\u001B[38;5;124m\"\u001B[39m, \u001B[38;5;28mid\u001B[39m\u001B[38;5;241m=\u001B[39m\u001B[38;5;241m123\u001B[39m)\n\u001B[1;32m      5\u001B[0m \u001B[38;5;28;01mif\u001B[39;00m \u001B[38;5;129;01mnot\u001B[39;00m filepath:\n\u001B[0;32m----> 6\u001B[0m     \u001B[43molo\u001B[49m\u001B[38;5;241;43m.\u001B[39;49m\u001B[43mstop\u001B[49m\u001B[43m(\u001B[49m\u001B[43mclear_all_outputs_bellow\u001B[49m\u001B[38;5;241;43m=\u001B[39;49m\u001B[38;5;28;43;01mTrue\u001B[39;49;00m\u001B[43m)\u001B[49m\n\u001B[1;32m      8\u001B[0m olo\u001B[38;5;241m.\u001B[39mtext(filepath, \u001B[38;5;28mid\u001B[39m\u001B[38;5;241m=\u001B[39m\u001B[38;5;241m3564363464\u001B[39m)\n\u001B[1;32m     10\u001B[0m \u001B[38;5;66;03m# open file\u001B[39;00m\n",
      "File \u001B[0;32m~/Documents/GitHub/plots/lib/plotolo/widget/widget.py:206\u001B[0m, in \u001B[0;36mstop\u001B[0;34m(clear_all_outputs_bellow, stop)\u001B[0m\n\u001B[1;32m    202\u001B[0m \u001B[38;5;28;01mdef\u001B[39;00m \u001B[38;5;21mstop\u001B[39m(\n\u001B[1;32m    203\u001B[0m         clear_all_outputs_bellow: \u001B[38;5;28mbool\u001B[39m \u001B[38;5;241m=\u001B[39m \u001B[38;5;28;01mFalse\u001B[39;00m,\n\u001B[1;32m    204\u001B[0m         stop: \u001B[38;5;28mbool\u001B[39m \u001B[38;5;241m=\u001B[39m \u001B[38;5;28;01mTrue\u001B[39;00m):\n\u001B[1;32m    205\u001B[0m     \u001B[38;5;28;01mif\u001B[39;00m stop:\n\u001B[0;32m--> 206\u001B[0m         \u001B[38;5;28;01mraise\u001B[39;00m _StopExecutionException(clear_all_outputs_bellow)\n",
      "\u001B[0;31mStopExecutionException\u001B[0m: "
     ]
    }
   ],
   "source": []
  },
  {
   "cell_type": "code",
   "execution_count": null,
   "metadata": {
    "pycharm": {
     "name": "#%%\n"
    }
   },
   "outputs": [],
   "source": [
    "# works only in server mode\n",
    "# filepath = olo.file_upload(\"Upload a file\", id=123)\n",
    "\n",
    "# if not filepath:\n",
    "#     olo.stop(clear_all_outputs_bellow=True)\n",
    "\n",
    "# olo.text(filepath, id=345)\n",
    "\n",
    "# with open(olo.path(filepath), 'r') as f:\n",
    "#     text = f.read()\n",
    "\n",
    "# with open(olo.path(filepath), 'w') as f:\n",
    "#     f.write(\"START\" + text + \"END\")\n",
    "\n",
    "# olo.text(text, id=234)"
   ]
  },
  {
   "cell_type": "code",
   "execution_count": null,
   "metadata": {
    "pycharm": {
     "name": "#%%\n"
    }
   },
   "outputs": [],
   "source": []
  }
 ],
 "metadata": {
  "kernelspec": {
   "display_name": "Python 3 (ipykernel)",
   "language": "python",
   "name": "python3"
  },
  "language_info": {
   "codemirror_mode": {
    "name": "ipython",
    "version": 3
   },
   "file_extension": ".py",
   "mimetype": "text/x-python",
   "name": "python",
   "nbconvert_exporter": "python",
   "pygments_lexer": "ipython3",
   "version": "3.10.6"
  }
 },
 "nbformat": 4,
 "nbformat_minor": 1
}