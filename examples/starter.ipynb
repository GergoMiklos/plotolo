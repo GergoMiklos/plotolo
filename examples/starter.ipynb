{
 "cells": [
  {
   "cell_type": "markdown",
   "metadata": {
    "pycharm": {
     "name": "#%% md\n"
    }
   },
   "source": [
    "# Starter Notebook\n",
    "\n",
    "### This Notebook is an empty template for using Plotolo."
   ]
  },
  {
   "cell_type": "code",
   "execution_count": 34,
   "metadata": {
    "pycharm": {
     "name": "#%%\n"
    }
   },
   "outputs": [
    {
     "name": "stdout",
     "output_type": "stream",
     "text": [
      "Installing /Users/miklosgergo/Documents/GitHub/plots/venv/lib/python3.10/site-packages/ipyreact/nbextension -> jupyter-react\n",
      "Removing: /Users/miklosgergo/Documents/GitHub/plots/venv/share/jupyter/nbextensions/jupyter-react\n",
      "Symlinking: /Users/miklosgergo/Documents/GitHub/plots/venv/share/jupyter/nbextensions/jupyter-react -> /Users/miklosgergo/Documents/GitHub/plots/venv/lib/python3.10/site-packages/ipyreact/nbextension\n",
      "- Validating: \u001B[32mOK\u001B[0m\n",
      "\n",
      "    To initialize this nbextension in the browser every time the notebook (or other app) loads:\n",
      "    \n",
      "          jupyter nbextension enable ipyreact --py --sys-prefix\n",
      "    \n",
      "Enabling notebook extension jupyter-react/extension...\n",
      "      - Validating: \u001B[32mOK\u001B[0m\n"
     ]
    }
   ],
   "source": [
    "# need only in dev mode, but magics does not effect anything in server mode\n",
    "import ipyreact\n",
    "!jupyter nbextension install --sys-prefix --symlink --overwrite --py ipyreact\n",
    "!jupyter nbextension enable --sys-prefix --py ipyreact"
   ]
  },
  {
   "cell_type": "code",
   "execution_count": 36,
   "outputs": [
    {
     "data": {
      "application/vnd.jupyter.widget-view+json": {
       "model_id": "842594c423ba4c8d92fa5acc3837e8e5",
       "version_major": 2,
       "version_minor": 0
      },
      "text/plain": [
       "_InlineNotebookWidget(data={'value': 'Hello world!'}, id='Hello world!TEXT', type='TEXT')"
      ]
     },
     "metadata": {},
     "output_type": "display_data"
    },
    {
     "data": {
      "application/vnd.jupyter.widget-view+json": {
       "model_id": "1218ce6cd24c4576a1872922a740a8ea",
       "version_major": 2,
       "version_minor": 0
      },
      "text/plain": [
       "_InlineNotebookWidget(data={'value': 'Hello World!', 'level': 3}, id='Hello World!TITLE', type='TITLE')"
      ]
     },
     "metadata": {},
     "output_type": "display_data"
    },
    {
     "data": {
      "application/vnd.jupyter.widget-view+json": {
       "model_id": "651296fa98bb45408e90057b808f352f",
       "version_major": 2,
       "version_minor": 0
      },
      "text/plain": [
       "_InlineNotebookWidget(data={'value': '\\n# Header :dog:\\n## Subheader :cat:\\n----\\nList:\\n- ($C_L$) is a dimens…"
      ]
     },
     "metadata": {},
     "output_type": "display_data"
    }
   ],
   "source": [
    "import plotolo as app"
   ],
   "metadata": {
    "collapsed": false,
    "pycharm": {
     "name": "#%%\n"
    }
   }
  },
  {
   "cell_type": "code",
   "execution_count": 4,
   "metadata": {
    "pycharm": {
     "name": "#%%\n"
    }
   },
   "outputs": [
    {
     "data": {
      "application/vnd.jupyter.widget-view+json": {
       "model_id": "afe6bb1b56714f86943de77408d60714",
       "version_major": 2,
       "version_minor": 0
      },
      "text/plain": [
       "_InlineNotebookWidget(data={'default_value': 'something', 'label': 'Write something:', 'place_holder': None}, …"
      ]
     },
     "metadata": {},
     "output_type": "display_data"
    }
   ],
   "source": [
    "value = app.text_input(label=\"Write something:\", default_value=\"something\")\n",
    "app.text(value, id=1)"
   ]
  },
  {
   "cell_type": "code",
   "execution_count": null,
   "outputs": [],
   "source": [],
   "metadata": {
    "collapsed": false,
    "pycharm": {
     "name": "#%%\n"
    }
   }
  }
 ],
 "metadata": {
  "kernelspec": {
   "display_name": "Python 3 (ipykernel)",
   "language": "python",
   "name": "python3"
  },
  "language_info": {
   "codemirror_mode": {
    "name": "ipython",
    "version": 3
   },
   "file_extension": ".py",
   "mimetype": "text/x-python",
   "name": "python",
   "nbconvert_exporter": "python",
   "pygments_lexer": "ipython3",
   "version": "3.10.6"
  }
 },
 "nbformat": 4,
 "nbformat_minor": 1
}